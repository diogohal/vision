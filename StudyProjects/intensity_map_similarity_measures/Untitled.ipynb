{
 "cells": [
  {
   "cell_type": "markdown",
   "id": "f8d67bbb",
   "metadata": {},
   "source": [
    "# The main goal of this project is to create an application that, given a set of RGB colors, plots an intensity map of the image. For this, some similarity measures will be used to calculate the distance between the image pixels and the"
   ]
  }
 ],
 "metadata": {
  "kernelspec": {
   "display_name": "Python 3 (ipykernel)",
   "language": "python",
   "name": "python3"
  },
  "language_info": {
   "codemirror_mode": {
    "name": "ipython",
    "version": 3
   },
   "file_extension": ".py",
   "mimetype": "text/x-python",
   "name": "python",
   "nbconvert_exporter": "python",
   "pygments_lexer": "ipython3",
   "version": "3.10.6"
  }
 },
 "nbformat": 4,
 "nbformat_minor": 5
}
